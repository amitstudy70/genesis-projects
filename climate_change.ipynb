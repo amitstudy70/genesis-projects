{
  "nbformat": 4,
  "nbformat_minor": 0,
  "metadata": {
    "colab": {
      "name": "Untitled1.ipynb",
      "provenance": [],
      "collapsed_sections": [],
      "toc_visible": true
    },
    "kernelspec": {
      "name": "python3",
      "display_name": "Python 3"
    },
    "language_info": {
      "name": "python"
    }
  },
  "cells": [
    {
      "cell_type": "code",
      "metadata": {
        "id": "FFRiDAhLfa7v"
      },
      "source": [
        "#import the libraries in this cell\n",
        "import pandas as pd\n",
        "import seaborn as sb\n",
        "import matplotlib.pyplot as plt"
      ],
      "execution_count": 66,
      "outputs": []
    },
    {
      "cell_type": "code",
      "metadata": {
        "id": "PEs6M_9DhAmY"
      },
      "source": [
        "#df is a variable whhere the data is stored from the read command\n",
        "data=pd.read_csv('/content/annual_csv.csv')"
      ],
      "execution_count": 67,
      "outputs": []
    },
    {
      "cell_type": "code",
      "metadata": {
        "id": "2cmKF7I-h0i8",
        "colab": {
          "base_uri": "https://localhost:8080/",
          "height": 358
        },
        "outputId": "74f7ded6-0130-4c82-b02d-4fece7ab4fd1"
      },
      "source": [
        "data.head(10)"
      ],
      "execution_count": 68,
      "outputs": [
        {
          "output_type": "execute_result",
          "data": {
            "text/html": [
              "<div>\n",
              "<style scoped>\n",
              "    .dataframe tbody tr th:only-of-type {\n",
              "        vertical-align: middle;\n",
              "    }\n",
              "\n",
              "    .dataframe tbody tr th {\n",
              "        vertical-align: top;\n",
              "    }\n",
              "\n",
              "    .dataframe thead th {\n",
              "        text-align: right;\n",
              "    }\n",
              "</style>\n",
              "<table border=\"1\" class=\"dataframe\">\n",
              "  <thead>\n",
              "    <tr style=\"text-align: right;\">\n",
              "      <th></th>\n",
              "      <th>Source</th>\n",
              "      <th>Year</th>\n",
              "      <th>Mean</th>\n",
              "    </tr>\n",
              "  </thead>\n",
              "  <tbody>\n",
              "    <tr>\n",
              "      <th>0</th>\n",
              "      <td>GCAG</td>\n",
              "      <td>2016</td>\n",
              "      <td>0.9363</td>\n",
              "    </tr>\n",
              "    <tr>\n",
              "      <th>1</th>\n",
              "      <td>GISTEMP</td>\n",
              "      <td>2016</td>\n",
              "      <td>0.9900</td>\n",
              "    </tr>\n",
              "    <tr>\n",
              "      <th>2</th>\n",
              "      <td>GCAG</td>\n",
              "      <td>2015</td>\n",
              "      <td>0.8998</td>\n",
              "    </tr>\n",
              "    <tr>\n",
              "      <th>3</th>\n",
              "      <td>GISTEMP</td>\n",
              "      <td>2015</td>\n",
              "      <td>0.8700</td>\n",
              "    </tr>\n",
              "    <tr>\n",
              "      <th>4</th>\n",
              "      <td>GCAG</td>\n",
              "      <td>2014</td>\n",
              "      <td>0.7408</td>\n",
              "    </tr>\n",
              "    <tr>\n",
              "      <th>5</th>\n",
              "      <td>GISTEMP</td>\n",
              "      <td>2014</td>\n",
              "      <td>0.7400</td>\n",
              "    </tr>\n",
              "    <tr>\n",
              "      <th>6</th>\n",
              "      <td>GCAG</td>\n",
              "      <td>2013</td>\n",
              "      <td>0.6679</td>\n",
              "    </tr>\n",
              "    <tr>\n",
              "      <th>7</th>\n",
              "      <td>GISTEMP</td>\n",
              "      <td>2013</td>\n",
              "      <td>0.6500</td>\n",
              "    </tr>\n",
              "    <tr>\n",
              "      <th>8</th>\n",
              "      <td>GCAG</td>\n",
              "      <td>2012</td>\n",
              "      <td>0.6240</td>\n",
              "    </tr>\n",
              "    <tr>\n",
              "      <th>9</th>\n",
              "      <td>GISTEMP</td>\n",
              "      <td>2012</td>\n",
              "      <td>0.6300</td>\n",
              "    </tr>\n",
              "  </tbody>\n",
              "</table>\n",
              "</div>"
            ],
            "text/plain": [
              "    Source  Year    Mean\n",
              "0     GCAG  2016  0.9363\n",
              "1  GISTEMP  2016  0.9900\n",
              "2     GCAG  2015  0.8998\n",
              "3  GISTEMP  2015  0.8700\n",
              "4     GCAG  2014  0.7408\n",
              "5  GISTEMP  2014  0.7400\n",
              "6     GCAG  2013  0.6679\n",
              "7  GISTEMP  2013  0.6500\n",
              "8     GCAG  2012  0.6240\n",
              "9  GISTEMP  2012  0.6300"
            ]
          },
          "metadata": {},
          "execution_count": 68
        }
      ]
    },
    {
      "cell_type": "code",
      "metadata": {
        "id": "Vng86SAsjJBz",
        "colab": {
          "base_uri": "https://localhost:8080/"
        },
        "outputId": "ae34f853-7427-4c70-a818-174e73f2d199"
      },
      "source": [
        "data.shape"
      ],
      "execution_count": 69,
      "outputs": [
        {
          "output_type": "execute_result",
          "data": {
            "text/plain": [
              "(274, 3)"
            ]
          },
          "metadata": {},
          "execution_count": 69
        }
      ]
    },
    {
      "cell_type": "code",
      "metadata": {
        "id": "PByXM7QnjZqx"
      },
      "source": [
        "data=data[data['Source']=='GISTEMP']"
      ],
      "execution_count": 70,
      "outputs": []
    },
    {
      "cell_type": "code",
      "metadata": {
        "id": "UtIse7hnkKrO",
        "colab": {
          "base_uri": "https://localhost:8080/",
          "height": 204
        },
        "outputId": "c4a1bf30-2a43-45a9-8a98-4bf0e4a95429"
      },
      "source": [
        "data.head()"
      ],
      "execution_count": 71,
      "outputs": [
        {
          "output_type": "execute_result",
          "data": {
            "text/html": [
              "<div>\n",
              "<style scoped>\n",
              "    .dataframe tbody tr th:only-of-type {\n",
              "        vertical-align: middle;\n",
              "    }\n",
              "\n",
              "    .dataframe tbody tr th {\n",
              "        vertical-align: top;\n",
              "    }\n",
              "\n",
              "    .dataframe thead th {\n",
              "        text-align: right;\n",
              "    }\n",
              "</style>\n",
              "<table border=\"1\" class=\"dataframe\">\n",
              "  <thead>\n",
              "    <tr style=\"text-align: right;\">\n",
              "      <th></th>\n",
              "      <th>Source</th>\n",
              "      <th>Year</th>\n",
              "      <th>Mean</th>\n",
              "    </tr>\n",
              "  </thead>\n",
              "  <tbody>\n",
              "    <tr>\n",
              "      <th>1</th>\n",
              "      <td>GISTEMP</td>\n",
              "      <td>2016</td>\n",
              "      <td>0.99</td>\n",
              "    </tr>\n",
              "    <tr>\n",
              "      <th>3</th>\n",
              "      <td>GISTEMP</td>\n",
              "      <td>2015</td>\n",
              "      <td>0.87</td>\n",
              "    </tr>\n",
              "    <tr>\n",
              "      <th>5</th>\n",
              "      <td>GISTEMP</td>\n",
              "      <td>2014</td>\n",
              "      <td>0.74</td>\n",
              "    </tr>\n",
              "    <tr>\n",
              "      <th>7</th>\n",
              "      <td>GISTEMP</td>\n",
              "      <td>2013</td>\n",
              "      <td>0.65</td>\n",
              "    </tr>\n",
              "    <tr>\n",
              "      <th>9</th>\n",
              "      <td>GISTEMP</td>\n",
              "      <td>2012</td>\n",
              "      <td>0.63</td>\n",
              "    </tr>\n",
              "  </tbody>\n",
              "</table>\n",
              "</div>"
            ],
            "text/plain": [
              "    Source  Year  Mean\n",
              "1  GISTEMP  2016  0.99\n",
              "3  GISTEMP  2015  0.87\n",
              "5  GISTEMP  2014  0.74\n",
              "7  GISTEMP  2013  0.65\n",
              "9  GISTEMP  2012  0.63"
            ]
          },
          "metadata": {},
          "execution_count": 71
        }
      ]
    },
    {
      "cell_type": "code",
      "metadata": {
        "id": "qXDqdMZAkktp"
      },
      "source": [
        "data=data.reset_index()[['Source','Year','Mean']]"
      ],
      "execution_count": 72,
      "outputs": []
    },
    {
      "cell_type": "code",
      "metadata": {
        "id": "QMsy0nVWk_Q3",
        "colab": {
          "base_uri": "https://localhost:8080/",
          "height": 204
        },
        "outputId": "33ca7621-96f4-4458-9a7d-421c3aba6028"
      },
      "source": [
        "data.head()"
      ],
      "execution_count": 73,
      "outputs": [
        {
          "output_type": "execute_result",
          "data": {
            "text/html": [
              "<div>\n",
              "<style scoped>\n",
              "    .dataframe tbody tr th:only-of-type {\n",
              "        vertical-align: middle;\n",
              "    }\n",
              "\n",
              "    .dataframe tbody tr th {\n",
              "        vertical-align: top;\n",
              "    }\n",
              "\n",
              "    .dataframe thead th {\n",
              "        text-align: right;\n",
              "    }\n",
              "</style>\n",
              "<table border=\"1\" class=\"dataframe\">\n",
              "  <thead>\n",
              "    <tr style=\"text-align: right;\">\n",
              "      <th></th>\n",
              "      <th>Source</th>\n",
              "      <th>Year</th>\n",
              "      <th>Mean</th>\n",
              "    </tr>\n",
              "  </thead>\n",
              "  <tbody>\n",
              "    <tr>\n",
              "      <th>0</th>\n",
              "      <td>GISTEMP</td>\n",
              "      <td>2016</td>\n",
              "      <td>0.99</td>\n",
              "    </tr>\n",
              "    <tr>\n",
              "      <th>1</th>\n",
              "      <td>GISTEMP</td>\n",
              "      <td>2015</td>\n",
              "      <td>0.87</td>\n",
              "    </tr>\n",
              "    <tr>\n",
              "      <th>2</th>\n",
              "      <td>GISTEMP</td>\n",
              "      <td>2014</td>\n",
              "      <td>0.74</td>\n",
              "    </tr>\n",
              "    <tr>\n",
              "      <th>3</th>\n",
              "      <td>GISTEMP</td>\n",
              "      <td>2013</td>\n",
              "      <td>0.65</td>\n",
              "    </tr>\n",
              "    <tr>\n",
              "      <th>4</th>\n",
              "      <td>GISTEMP</td>\n",
              "      <td>2012</td>\n",
              "      <td>0.63</td>\n",
              "    </tr>\n",
              "  </tbody>\n",
              "</table>\n",
              "</div>"
            ],
            "text/plain": [
              "    Source  Year  Mean\n",
              "0  GISTEMP  2016  0.99\n",
              "1  GISTEMP  2015  0.87\n",
              "2  GISTEMP  2014  0.74\n",
              "3  GISTEMP  2013  0.65\n",
              "4  GISTEMP  2012  0.63"
            ]
          },
          "metadata": {},
          "execution_count": 73
        }
      ]
    },
    {
      "cell_type": "code",
      "metadata": {
        "id": "j5nVD0TJlour",
        "colab": {
          "base_uri": "https://localhost:8080/",
          "height": 404
        },
        "outputId": "96756b6e-b688-4fc3-bdb8-80e990a63cc5"
      },
      "source": [
        "sb.lineplot(data['Year'],data['Mean'])\n",
        "sb.lineplot(data['Year'],data['Mean'])\n",
        "plt.title(\"Mean Global Temperatures by Year\")\n"
      ],
      "execution_count": 74,
      "outputs": [
        {
          "output_type": "stream",
          "name": "stderr",
          "text": [
            "/usr/local/lib/python3.7/dist-packages/seaborn/_decorators.py:43: FutureWarning: Pass the following variables as keyword args: x, y. From version 0.12, the only valid positional argument will be `data`, and passing other arguments without an explicit keyword will result in an error or misinterpretation.\n",
            "  FutureWarning\n",
            "/usr/local/lib/python3.7/dist-packages/seaborn/_decorators.py:43: FutureWarning: Pass the following variables as keyword args: x, y. From version 0.12, the only valid positional argument will be `data`, and passing other arguments without an explicit keyword will result in an error or misinterpretation.\n",
            "  FutureWarning\n"
          ]
        },
        {
          "output_type": "execute_result",
          "data": {
            "text/plain": [
              "Text(0.5, 1.0, 'Mean Global Temperatures by Year')"
            ]
          },
          "metadata": {},
          "execution_count": 74
        },
        {
          "output_type": "display_data",
          "data": {
            "image/png": "[encoded data removed]",
            "text/plain": [
              "<Figure size 432x288 with 1 Axes>"
            ]
          },
          "metadata": {
            "needs_background": "light"
          }
        }
      ]
    },
    {
      "cell_type": "code",
      "metadata": {
        "id": "zrk9SIx9mX4n",
        "colab": {
          "base_uri": "https://localhost:8080/",
          "height": 358
        },
        "outputId": "706fbb86-1c4b-4d93-f80b-93930c69c1e1"
      },
      "source": [
        "data_sugarcane= pd.read_csv('/content/sugar-cane-yields.csv')\n",
        "#tail gives you the last five lines of data whereas head gives you the first five by default or you can specify the lines of data you want\n",
        "data_sugarcane.tail(10)"
      ],
      "execution_count": 75,
      "outputs": [
        {
          "output_type": "execute_result",
          "data": {
            "text/html": [
              "<div>\n",
              "<style scoped>\n",
              "    .dataframe tbody tr th:only-of-type {\n",
              "        vertical-align: middle;\n",
              "    }\n",
              "\n",
              "    .dataframe tbody tr th {\n",
              "        vertical-align: top;\n",
              "    }\n",
              "\n",
              "    .dataframe thead th {\n",
              "        text-align: right;\n",
              "    }\n",
              "</style>\n",
              "<table border=\"1\" class=\"dataframe\">\n",
              "  <thead>\n",
              "    <tr style=\"text-align: right;\">\n",
              "      <th></th>\n",
              "      <th>Entity</th>\n",
              "      <th>Code</th>\n",
              "      <th>Year</th>\n",
              "      <th>Crops - Sugar cane - 156 - Yield - 5419 - hg/ha</th>\n",
              "    </tr>\n",
              "  </thead>\n",
              "  <tbody>\n",
              "    <tr>\n",
              "      <th>7580</th>\n",
              "      <td>Zimbabwe</td>\n",
              "      <td>ZWE</td>\n",
              "      <td>2009</td>\n",
              "      <td>64.6403</td>\n",
              "    </tr>\n",
              "    <tr>\n",
              "      <th>7581</th>\n",
              "      <td>Zimbabwe</td>\n",
              "      <td>ZWE</td>\n",
              "      <td>2010</td>\n",
              "      <td>66.2027</td>\n",
              "    </tr>\n",
              "    <tr>\n",
              "      <th>7582</th>\n",
              "      <td>Zimbabwe</td>\n",
              "      <td>ZWE</td>\n",
              "      <td>2011</td>\n",
              "      <td>71.4019</td>\n",
              "    </tr>\n",
              "    <tr>\n",
              "      <th>7583</th>\n",
              "      <td>Zimbabwe</td>\n",
              "      <td>ZWE</td>\n",
              "      <td>2012</td>\n",
              "      <td>73.4595</td>\n",
              "    </tr>\n",
              "    <tr>\n",
              "      <th>7584</th>\n",
              "      <td>Zimbabwe</td>\n",
              "      <td>ZWE</td>\n",
              "      <td>2013</td>\n",
              "      <td>84.9694</td>\n",
              "    </tr>\n",
              "    <tr>\n",
              "      <th>7585</th>\n",
              "      <td>Zimbabwe</td>\n",
              "      <td>ZWE</td>\n",
              "      <td>2014</td>\n",
              "      <td>89.4228</td>\n",
              "    </tr>\n",
              "    <tr>\n",
              "      <th>7586</th>\n",
              "      <td>Zimbabwe</td>\n",
              "      <td>ZWE</td>\n",
              "      <td>2015</td>\n",
              "      <td>77.6906</td>\n",
              "    </tr>\n",
              "    <tr>\n",
              "      <th>7587</th>\n",
              "      <td>Zimbabwe</td>\n",
              "      <td>ZWE</td>\n",
              "      <td>2016</td>\n",
              "      <td>80.0690</td>\n",
              "    </tr>\n",
              "    <tr>\n",
              "      <th>7588</th>\n",
              "      <td>Zimbabwe</td>\n",
              "      <td>ZWE</td>\n",
              "      <td>2017</td>\n",
              "      <td>80.0368</td>\n",
              "    </tr>\n",
              "    <tr>\n",
              "      <th>7589</th>\n",
              "      <td>Zimbabwe</td>\n",
              "      <td>ZWE</td>\n",
              "      <td>2018</td>\n",
              "      <td>81.0336</td>\n",
              "    </tr>\n",
              "  </tbody>\n",
              "</table>\n",
              "</div>"
            ],
            "text/plain": [
              "        Entity Code  Year  Crops - Sugar cane - 156 - Yield - 5419 - hg/ha\n",
              "7580  Zimbabwe  ZWE  2009                                          64.6403\n",
              "7581  Zimbabwe  ZWE  2010                                          66.2027\n",
              "7582  Zimbabwe  ZWE  2011                                          71.4019\n",
              "7583  Zimbabwe  ZWE  2012                                          73.4595\n",
              "7584  Zimbabwe  ZWE  2013                                          84.9694\n",
              "7585  Zimbabwe  ZWE  2014                                          89.4228\n",
              "7586  Zimbabwe  ZWE  2015                                          77.6906\n",
              "7587  Zimbabwe  ZWE  2016                                          80.0690\n",
              "7588  Zimbabwe  ZWE  2017                                          80.0368\n",
              "7589  Zimbabwe  ZWE  2018                                          81.0336"
            ]
          },
          "metadata": {},
          "execution_count": 75
        }
      ]
    },
    {
      "cell_type": "code",
      "metadata": {
        "id": "BIpct8-FzQRy",
        "colab": {
          "base_uri": "https://localhost:8080/",
          "height": 358
        },
        "outputId": "7dad62ae-27bb-43a6-e153-75dd31ce32b0"
      },
      "source": [
        "data_rice= pd.read_csv('/content/rice-yields.csv')\n",
        "#tail gives you the last five lines of data whereas head gives you the first five by default or you can specify the lines of data you want\n",
        "data_rice.tail(10)"
      ],
      "execution_count": 76,
      "outputs": [
        {
          "output_type": "execute_result",
          "data": {
            "text/html": [
              "<div>\n",
              "<style scoped>\n",
              "    .dataframe tbody tr th:only-of-type {\n",
              "        vertical-align: middle;\n",
              "    }\n",
              "\n",
              "    .dataframe tbody tr th {\n",
              "        vertical-align: top;\n",
              "    }\n",
              "\n",
              "    .dataframe thead th {\n",
              "        text-align: right;\n",
              "    }\n",
              "</style>\n",
              "<table border=\"1\" class=\"dataframe\">\n",
              "  <thead>\n",
              "    <tr style=\"text-align: right;\">\n",
              "      <th></th>\n",
              "      <th>Entity</th>\n",
              "      <th>Code</th>\n",
              "      <th>Year</th>\n",
              "      <th>Crops - Cereals (Rice Milled Eqv) - 1817 - Yield - 5419 - hg/ha</th>\n",
              "    </tr>\n",
              "  </thead>\n",
              "  <tbody>\n",
              "    <tr>\n",
              "      <th>11779</th>\n",
              "      <td>Zimbabwe</td>\n",
              "      <td>ZWE</td>\n",
              "      <td>2009</td>\n",
              "      <td>0.4523</td>\n",
              "    </tr>\n",
              "    <tr>\n",
              "      <th>11780</th>\n",
              "      <td>Zimbabwe</td>\n",
              "      <td>ZWE</td>\n",
              "      <td>2010</td>\n",
              "      <td>0.7336</td>\n",
              "    </tr>\n",
              "    <tr>\n",
              "      <th>11781</th>\n",
              "      <td>Zimbabwe</td>\n",
              "      <td>ZWE</td>\n",
              "      <td>2011</td>\n",
              "      <td>0.5876</td>\n",
              "    </tr>\n",
              "    <tr>\n",
              "      <th>11782</th>\n",
              "      <td>Zimbabwe</td>\n",
              "      <td>ZWE</td>\n",
              "      <td>2012</td>\n",
              "      <td>0.6963</td>\n",
              "    </tr>\n",
              "    <tr>\n",
              "      <th>11783</th>\n",
              "      <td>Zimbabwe</td>\n",
              "      <td>ZWE</td>\n",
              "      <td>2013</td>\n",
              "      <td>0.6691</td>\n",
              "    </tr>\n",
              "    <tr>\n",
              "      <th>11784</th>\n",
              "      <td>Zimbabwe</td>\n",
              "      <td>ZWE</td>\n",
              "      <td>2014</td>\n",
              "      <td>0.8243</td>\n",
              "    </tr>\n",
              "    <tr>\n",
              "      <th>11785</th>\n",
              "      <td>Zimbabwe</td>\n",
              "      <td>ZWE</td>\n",
              "      <td>2015</td>\n",
              "      <td>0.5584</td>\n",
              "    </tr>\n",
              "    <tr>\n",
              "      <th>11786</th>\n",
              "      <td>Zimbabwe</td>\n",
              "      <td>ZWE</td>\n",
              "      <td>2016</td>\n",
              "      <td>0.4349</td>\n",
              "    </tr>\n",
              "    <tr>\n",
              "      <th>11787</th>\n",
              "      <td>Zimbabwe</td>\n",
              "      <td>ZWE</td>\n",
              "      <td>2017</td>\n",
              "      <td>0.6219</td>\n",
              "    </tr>\n",
              "    <tr>\n",
              "      <th>11788</th>\n",
              "      <td>Zimbabwe</td>\n",
              "      <td>ZWE</td>\n",
              "      <td>2018</td>\n",
              "      <td>0.5789</td>\n",
              "    </tr>\n",
              "  </tbody>\n",
              "</table>\n",
              "</div>"
            ],
            "text/plain": [
              "         Entity  ... Crops - Cereals (Rice Milled Eqv) - 1817 - Yield - 5419 - hg/ha\n",
              "11779  Zimbabwe  ...                                             0.4523             \n",
              "11780  Zimbabwe  ...                                             0.7336             \n",
              "11781  Zimbabwe  ...                                             0.5876             \n",
              "11782  Zimbabwe  ...                                             0.6963             \n",
              "11783  Zimbabwe  ...                                             0.6691             \n",
              "11784  Zimbabwe  ...                                             0.8243             \n",
              "11785  Zimbabwe  ...                                             0.5584             \n",
              "11786  Zimbabwe  ...                                             0.4349             \n",
              "11787  Zimbabwe  ...                                             0.6219             \n",
              "11788  Zimbabwe  ...                                             0.5789             \n",
              "\n",
              "[10 rows x 4 columns]"
            ]
          },
          "metadata": {},
          "execution_count": 76
        }
      ]
    },
    {
      "cell_type": "code",
      "metadata": {
        "id": "bd4C8aMOo0gF",
        "colab": {
          "base_uri": "https://localhost:8080/",
          "height": 204
        },
        "outputId": "a7ace583-26d4-44fc-c701-7a7c3e1c770a"
      },
      "source": [
        "data_sugarcane=data_sugarcane.rename(columns={'Crops - Sugar cane - 156 - Yield - 5419 - hg/ha':'hg/ha'})\n",
        "data_sugarcane.head()"
      ],
      "execution_count": 77,
      "outputs": [
        {
          "output_type": "execute_result",
          "data": {
            "text/html": [
              "<div>\n",
              "<style scoped>\n",
              "    .dataframe tbody tr th:only-of-type {\n",
              "        vertical-align: middle;\n",
              "    }\n",
              "\n",
              "    .dataframe tbody tr th {\n",
              "        vertical-align: top;\n",
              "    }\n",
              "\n",
              "    .dataframe thead th {\n",
              "        text-align: right;\n",
              "    }\n",
              "</style>\n",
              "<table border=\"1\" class=\"dataframe\">\n",
              "  <thead>\n",
              "    <tr style=\"text-align: right;\">\n",
              "      <th></th>\n",
              "      <th>Entity</th>\n",
              "      <th>Code</th>\n",
              "      <th>Year</th>\n",
              "      <th>hg/ha</th>\n",
              "    </tr>\n",
              "  </thead>\n",
              "  <tbody>\n",
              "    <tr>\n",
              "      <th>0</th>\n",
              "      <td>Afghanistan</td>\n",
              "      <td>AFG</td>\n",
              "      <td>1961</td>\n",
              "      <td>25.0</td>\n",
              "    </tr>\n",
              "    <tr>\n",
              "      <th>1</th>\n",
              "      <td>Afghanistan</td>\n",
              "      <td>AFG</td>\n",
              "      <td>1962</td>\n",
              "      <td>25.0</td>\n",
              "    </tr>\n",
              "    <tr>\n",
              "      <th>2</th>\n",
              "      <td>Afghanistan</td>\n",
              "      <td>AFG</td>\n",
              "      <td>1963</td>\n",
              "      <td>25.0</td>\n",
              "    </tr>\n",
              "    <tr>\n",
              "      <th>3</th>\n",
              "      <td>Afghanistan</td>\n",
              "      <td>AFG</td>\n",
              "      <td>1964</td>\n",
              "      <td>25.0</td>\n",
              "    </tr>\n",
              "    <tr>\n",
              "      <th>4</th>\n",
              "      <td>Afghanistan</td>\n",
              "      <td>AFG</td>\n",
              "      <td>1965</td>\n",
              "      <td>25.5</td>\n",
              "    </tr>\n",
              "  </tbody>\n",
              "</table>\n",
              "</div>"
            ],
            "text/plain": [
              "        Entity Code  Year  hg/ha\n",
              "0  Afghanistan  AFG  1961   25.0\n",
              "1  Afghanistan  AFG  1962   25.0\n",
              "2  Afghanistan  AFG  1963   25.0\n",
              "3  Afghanistan  AFG  1964   25.0\n",
              "4  Afghanistan  AFG  1965   25.5"
            ]
          },
          "metadata": {},
          "execution_count": 77
        }
      ]
    },
    {
      "cell_type": "code",
      "metadata": {
        "id": "2cxVpsV6zgtT",
        "colab": {
          "base_uri": "https://localhost:8080/",
          "height": 204
        },
        "outputId": "9d700e76-4df3-4599-e6ac-d52945e22e37"
      },
      "source": [
        "data_rice=data_rice.rename(columns={'Crops - Cereals (Rice Milled Eqv) - 1817 - Yield - 5419 - hg/ha':'hg/ha'})\n",
        "data_rice.head()"
      ],
      "execution_count": 78,
      "outputs": [
        {
          "output_type": "execute_result",
          "data": {
            "text/html": [
              "<div>\n",
              "<style scoped>\n",
              "    .dataframe tbody tr th:only-of-type {\n",
              "        vertical-align: middle;\n",
              "    }\n",
              "\n",
              "    .dataframe tbody tr th {\n",
              "        vertical-align: top;\n",
              "    }\n",
              "\n",
              "    .dataframe thead th {\n",
              "        text-align: right;\n",
              "    }\n",
              "</style>\n",
              "<table border=\"1\" class=\"dataframe\">\n",
              "  <thead>\n",
              "    <tr style=\"text-align: right;\">\n",
              "      <th></th>\n",
              "      <th>Entity</th>\n",
              "      <th>Code</th>\n",
              "      <th>Year</th>\n",
              "      <th>hg/ha</th>\n",
              "    </tr>\n",
              "  </thead>\n",
              "  <tbody>\n",
              "    <tr>\n",
              "      <th>0</th>\n",
              "      <td>Afghanistan</td>\n",
              "      <td>AFG</td>\n",
              "      <td>1961</td>\n",
              "      <td>1.0831</td>\n",
              "    </tr>\n",
              "    <tr>\n",
              "      <th>1</th>\n",
              "      <td>Afghanistan</td>\n",
              "      <td>AFG</td>\n",
              "      <td>1962</td>\n",
              "      <td>1.0480</td>\n",
              "    </tr>\n",
              "    <tr>\n",
              "      <th>2</th>\n",
              "      <td>Afghanistan</td>\n",
              "      <td>AFG</td>\n",
              "      <td>1963</td>\n",
              "      <td>0.9548</td>\n",
              "    </tr>\n",
              "    <tr>\n",
              "      <th>3</th>\n",
              "      <td>Afghanistan</td>\n",
              "      <td>AFG</td>\n",
              "      <td>1964</td>\n",
              "      <td>1.0461</td>\n",
              "    </tr>\n",
              "    <tr>\n",
              "      <th>4</th>\n",
              "      <td>Afghanistan</td>\n",
              "      <td>AFG</td>\n",
              "      <td>1965</td>\n",
              "      <td>1.0621</td>\n",
              "    </tr>\n",
              "  </tbody>\n",
              "</table>\n",
              "</div>"
            ],
            "text/plain": [
              "        Entity Code  Year   hg/ha\n",
              "0  Afghanistan  AFG  1961  1.0831\n",
              "1  Afghanistan  AFG  1962  1.0480\n",
              "2  Afghanistan  AFG  1963  0.9548\n",
              "3  Afghanistan  AFG  1964  1.0461\n",
              "4  Afghanistan  AFG  1965  1.0621"
            ]
          },
          "metadata": {},
          "execution_count": 78
        }
      ]
    },
    {
      "cell_type": "code",
      "metadata": {
        "id": "aaAhk9iHpo8x",
        "colab": {
          "base_uri": "https://localhost:8080/"
        },
        "outputId": "9d71b5fe-436f-435a-f8fb-417721262daa"
      },
      "source": [
        "country = set(data_sugarcane['Entity'].values)\n",
        "print(country)"
      ],
      "execution_count": 79,
      "outputs": [
        {
          "output_type": "stream",
          "name": "stdout",
          "text": [
            "{'Afghanistan', 'Southern Asia', 'Southern Africa', 'Colombia', 'Middle Africa', 'Trinidad and Tobago', 'Burkina Faso', 'Costa Rica', 'Guinea', 'Sierra Leone', 'Senegal', 'Small island developing States', 'Caribbean', 'Guatemala', 'Liberia', 'Madagascar', 'Ecuador', 'Philippines', 'United States', 'Spain', 'Jamaica', 'Antigua and Barbuda', 'Samoa', 'El Salvador', 'Northern America', 'Grenada', 'Taiwan', 'Eswatini', 'Eastern Africa', 'India', 'Bhutan', 'Cuba', 'Morocco', 'Ethiopia', 'Eastern Asia', 'European Union', 'Laos', 'Bolivia', 'Somalia', 'Indonesia', 'French Polynesia', 'Africa', 'Burundi', 'Mauritius', 'Net Food Importing Developing Countries', 'Low Income Food Deficit Countries', 'Guyana', 'Myanmar', 'South America', 'Sri Lanka', 'Martinique', 'Honduras', 'Kenya', 'Vietnam', 'Gabon', 'Least Developed Countries', 'Puerto Rico', 'Angola', 'Sudan', 'Zambia', 'Central America', 'Australia', 'Southern Europe', 'Saint Lucia', 'Oceania', 'Cambodia', 'Venezuela', 'Mozambique', 'South Africa', 'Benin', 'Singapore', 'Barbados', 'France', 'Suriname', 'Cape Verde', 'Malaysia', 'Mexico', 'Paraguay', 'Iraq', 'Niger', 'Panama', 'Syria', 'Congo', 'American Samoa', 'South Eastern Asia', 'Sudan (former)', 'Tanzania', 'Uganda', 'Portugal', 'French Guiana', 'Cameroon', 'Wallis and Futuna', 'Egypt', 'United States Virgin Islands', 'Oman', 'Land Locked Developing Countries', 'Reunion', 'Bangladesh', 'Iran', 'Europe, Western', 'Western Africa', 'Democratic Republic of Congo', 'Brazil', 'World', 'Bahamas', 'Americas', 'Fiji', 'Saint Vincent and the Grenadines', 'Saint Kitts and Nevis', 'Haiti', 'Guadeloupe', 'Nepal', 'Malawi', 'Asia', 'Central African Republic', 'Australia & New Zealand', 'China', 'Thailand', 'Yemen', 'Melanesia', 'Nigeria', 'Pakistan', 'Argentina', 'Polynesia', 'Western Asia', \"Cote d'Ivoire\", 'Papua New Guinea', 'Rwanda', 'Lebanon', 'Mali', 'Dominican Republic', 'Nicaragua', 'Europe', 'Guinea-Bissau', 'Peru', 'Chad', 'Ethiopia PDR', 'Dominica', 'Japan', 'Belize', 'Uruguay', 'Ghana', 'Zimbabwe', 'Northern Africa'}\n"
          ]
        }
      ]
    },
    {
      "cell_type": "code",
      "metadata": {
        "id": "BP6dtVOP1Vl9",
        "colab": {
          "base_uri": "https://localhost:8080/"
        },
        "outputId": "3cdc1cf0-918b-4a05-b1f9-29f9564f9b49"
      },
      "source": [
        "country = set(data_rice['Entity'].values)\n",
        "print(country)"
      ],
      "execution_count": 80,
      "outputs": [
        {
          "output_type": "stream",
          "name": "stdout",
          "text": [
            "{'Vanuatu', 'Afghanistan', 'Montserrat', 'Southern Asia', 'Eastern Europe', 'Southern Africa', 'Brunei', 'Kyrgyzstan', 'Belgium', 'Colombia', 'Middle Africa', 'Poland', 'Luxembourg', 'Trinidad and Tobago', 'Montenegro', 'Burkina Faso', 'Costa Rica', 'Guinea', 'Pacific Islands Trust Territory', 'Senegal', 'Sierra Leone', 'Caribbean', 'Small island developing States', 'Malta', 'Guatemala', 'Jordan', 'Comoros', 'Liberia', 'Turkmenistan', 'Madagascar', 'Western Sahara', 'Ecuador', 'Philippines', 'Denmark', 'United States', 'Spain', 'Bosnia and Herzegovina', 'Cyprus', 'Jamaica', 'Antigua and Barbuda', 'Timor', 'Greece', 'Botswana', 'El Salvador', 'Northern America', 'United Kingdom', 'Grenada', 'Czechia', 'Taiwan', 'Latvia', 'Croatia', 'North Macedonia', 'North Korea', 'Kuwait', 'Hong Kong', 'Azerbaijan', 'Mauritania', 'Eswatini', 'Eastern Africa', 'India', 'Bhutan', 'Chile', 'Estonia', 'Cuba', 'Morocco', 'New Zealand', 'Ethiopia', 'Tajikistan', 'Eastern Asia', 'Serbia', 'Ukraine', 'European Union', 'Georgia', 'Lithuania', 'Bulgaria', 'Germany', 'Laos', 'Sweden', 'Norway', 'Bolivia', 'Somalia', 'Ireland', 'Romania', 'Guam', 'Indonesia', 'Belarus', 'Africa', 'Burundi', 'Lesotho', 'Mauritius', 'Low Income Food Deficit Countries', 'Guyana', 'Myanmar', 'Net Food Importing Developing Countries', 'South America', 'Sri Lanka', 'Albania', 'Eritrea', 'Gambia', 'Honduras', 'Kenya', 'Gabon', 'Least Developed Countries', 'Moldova', 'Puerto Rico', 'Netherlands', 'Vietnam', 'Angola', 'Sudan', 'Qatar', 'Switzerland', 'Zambia', 'South Korea', 'Slovakia', 'Central America', 'Togo', 'Australia', 'Southern Europe', 'Finland', 'Armenia', 'Saint Lucia', 'Oceania', 'Cambodia', 'South Sudan', 'Venezuela', 'Maldives', 'Mozambique', 'Canada', 'South Africa', 'Benin', 'Czechoslovakia', 'Barbados', 'France', 'Suriname', 'Cape Verde', 'Malaysia', 'Mexico', 'Paraguay', 'Iraq', 'Niger', 'Panama', 'Syria', 'Djibouti', 'Congo', 'Belgium-Luxembourg', 'South Eastern Asia', 'Mongolia', 'Sudan (former)', 'Tanzania', 'Italy', 'Tunisia', 'Uganda', 'Portugal', 'Kazakhstan', 'French Guiana', 'Iceland', 'Cameroon', 'Egypt', 'Oman', 'Land Locked Developing Countries', 'Reunion', 'Bangladesh', 'Iran', 'Europe, Western', 'Western Africa', 'Austria', 'Democratic Republic of Congo', 'Brazil', 'Libya', 'World', 'Northern Europe', 'Turkey', 'Bahamas', 'Slovenia', 'Micronesia (region)', 'Americas', 'Fiji', 'Hungary', 'Saudi Arabia', 'Israel', 'Saint Vincent and the Grenadines', 'United Arab Emirates', 'Haiti', 'Uzbekistan', 'Guadeloupe', 'Nepal', 'Malawi', 'Asia', 'Central African Republic', 'Russia', 'Australia & New Zealand', 'Micronesia (country)', 'China', 'Thailand', 'Yemen', 'Melanesia', 'Asia, Central', 'Nigeria', 'Pakistan', 'Palestine', 'Solomon Islands', 'Argentina', 'Western Asia', \"Cote d'Ivoire\", 'Papua New Guinea', 'USSR', 'Yugoslavia', 'Rwanda', 'Lebanon', 'Mali', 'Dominican Republic', 'New Caledonia', 'Serbia and Montenegro', 'Namibia', 'Nicaragua', 'Europe', 'Sao Tome and Principe', 'Guinea-Bissau', 'Peru', 'Chad', 'Ethiopia PDR', 'Dominica', 'Japan', 'Belize', 'Algeria', 'Uruguay', 'Ghana', 'Zimbabwe', 'Northern Africa'}\n"
          ]
        }
      ]
    },
    {
      "cell_type": "code",
      "metadata": {
        "id": "ekPQ042mqTzA",
        "colab": {
          "base_uri": "https://localhost:8080/"
        },
        "outputId": "9787f390-6c0d-4003-85d8-b3fac2a08575"
      },
      "source": [
        "#gives you the length of the variable\n",
        "len(country)"
      ],
      "execution_count": 81,
      "outputs": [
        {
          "output_type": "execute_result",
          "data": {
            "text/plain": [
              "229"
            ]
          },
          "metadata": {},
          "execution_count": 81
        }
      ]
    },
    {
      "cell_type": "code",
      "metadata": {
        "id": "FjI26hUxrDBg"
      },
      "source": [
        "data_sugarcane= data_sugarcane.drop('Code',axis=1)"
      ],
      "execution_count": 82,
      "outputs": []
    },
    {
      "cell_type": "code",
      "metadata": {
        "id": "AiEjGBrv1mO9"
      },
      "source": [
        "data_rice= data_rice.drop('Code',axis=1)"
      ],
      "execution_count": 83,
      "outputs": []
    },
    {
      "cell_type": "code",
      "metadata": {
        "id": "-I3-WrkurYoO",
        "colab": {
          "base_uri": "https://localhost:8080/",
          "height": 204
        },
        "outputId": "590b147e-c45b-42bb-ffc2-f8013c649759"
      },
      "source": [
        "data_sugarcane.head()"
      ],
      "execution_count": 84,
      "outputs": [
        {
          "output_type": "execute_result",
          "data": {
            "text/html": [
              "<div>\n",
              "<style scoped>\n",
              "    .dataframe tbody tr th:only-of-type {\n",
              "        vertical-align: middle;\n",
              "    }\n",
              "\n",
              "    .dataframe tbody tr th {\n",
              "        vertical-align: top;\n",
              "    }\n",
              "\n",
              "    .dataframe thead th {\n",
              "        text-align: right;\n",
              "    }\n",
              "</style>\n",
              "<table border=\"1\" class=\"dataframe\">\n",
              "  <thead>\n",
              "    <tr style=\"text-align: right;\">\n",
              "      <th></th>\n",
              "      <th>Entity</th>\n",
              "      <th>Year</th>\n",
              "      <th>hg/ha</th>\n",
              "    </tr>\n",
              "  </thead>\n",
              "  <tbody>\n",
              "    <tr>\n",
              "      <th>0</th>\n",
              "      <td>Afghanistan</td>\n",
              "      <td>1961</td>\n",
              "      <td>25.0</td>\n",
              "    </tr>\n",
              "    <tr>\n",
              "      <th>1</th>\n",
              "      <td>Afghanistan</td>\n",
              "      <td>1962</td>\n",
              "      <td>25.0</td>\n",
              "    </tr>\n",
              "    <tr>\n",
              "      <th>2</th>\n",
              "      <td>Afghanistan</td>\n",
              "      <td>1963</td>\n",
              "      <td>25.0</td>\n",
              "    </tr>\n",
              "    <tr>\n",
              "      <th>3</th>\n",
              "      <td>Afghanistan</td>\n",
              "      <td>1964</td>\n",
              "      <td>25.0</td>\n",
              "    </tr>\n",
              "    <tr>\n",
              "      <th>4</th>\n",
              "      <td>Afghanistan</td>\n",
              "      <td>1965</td>\n",
              "      <td>25.5</td>\n",
              "    </tr>\n",
              "  </tbody>\n",
              "</table>\n",
              "</div>"
            ],
            "text/plain": [
              "        Entity  Year  hg/ha\n",
              "0  Afghanistan  1961   25.0\n",
              "1  Afghanistan  1962   25.0\n",
              "2  Afghanistan  1963   25.0\n",
              "3  Afghanistan  1964   25.0\n",
              "4  Afghanistan  1965   25.5"
            ]
          },
          "metadata": {},
          "execution_count": 84
        }
      ]
    },
    {
      "cell_type": "code",
      "metadata": {
        "id": "rdN7vhXA1uGW",
        "colab": {
          "base_uri": "https://localhost:8080/",
          "height": 204
        },
        "outputId": "d01e0ff7-6daf-4696-fc28-4543ca1e6448"
      },
      "source": [
        "data_rice.head()"
      ],
      "execution_count": 85,
      "outputs": [
        {
          "output_type": "execute_result",
          "data": {
            "text/html": [
              "<div>\n",
              "<style scoped>\n",
              "    .dataframe tbody tr th:only-of-type {\n",
              "        vertical-align: middle;\n",
              "    }\n",
              "\n",
              "    .dataframe tbody tr th {\n",
              "        vertical-align: top;\n",
              "    }\n",
              "\n",
              "    .dataframe thead th {\n",
              "        text-align: right;\n",
              "    }\n",
              "</style>\n",
              "<table border=\"1\" class=\"dataframe\">\n",
              "  <thead>\n",
              "    <tr style=\"text-align: right;\">\n",
              "      <th></th>\n",
              "      <th>Entity</th>\n",
              "      <th>Year</th>\n",
              "      <th>hg/ha</th>\n",
              "    </tr>\n",
              "  </thead>\n",
              "  <tbody>\n",
              "    <tr>\n",
              "      <th>0</th>\n",
              "      <td>Afghanistan</td>\n",
              "      <td>1961</td>\n",
              "      <td>1.0831</td>\n",
              "    </tr>\n",
              "    <tr>\n",
              "      <th>1</th>\n",
              "      <td>Afghanistan</td>\n",
              "      <td>1962</td>\n",
              "      <td>1.0480</td>\n",
              "    </tr>\n",
              "    <tr>\n",
              "      <th>2</th>\n",
              "      <td>Afghanistan</td>\n",
              "      <td>1963</td>\n",
              "      <td>0.9548</td>\n",
              "    </tr>\n",
              "    <tr>\n",
              "      <th>3</th>\n",
              "      <td>Afghanistan</td>\n",
              "      <td>1964</td>\n",
              "      <td>1.0461</td>\n",
              "    </tr>\n",
              "    <tr>\n",
              "      <th>4</th>\n",
              "      <td>Afghanistan</td>\n",
              "      <td>1965</td>\n",
              "      <td>1.0621</td>\n",
              "    </tr>\n",
              "  </tbody>\n",
              "</table>\n",
              "</div>"
            ],
            "text/plain": [
              "        Entity  Year   hg/ha\n",
              "0  Afghanistan  1961  1.0831\n",
              "1  Afghanistan  1962  1.0480\n",
              "2  Afghanistan  1963  0.9548\n",
              "3  Afghanistan  1964  1.0461\n",
              "4  Afghanistan  1965  1.0621"
            ]
          },
          "metadata": {},
          "execution_count": 85
        }
      ]
    },
    {
      "cell_type": "code",
      "metadata": {
        "id": "1GIU0wa4qeLp",
        "colab": {
          "base_uri": "https://localhost:8080/",
          "height": 204
        },
        "outputId": "72f06146-6743-47bc-b472-489976fa9bfa"
      },
      "source": [
        "data_sugarcane=data_sugarcane[data_sugarcane['Entity']=='Japan'].reset_index()[['Entity','Year','hg/ha']]\n",
        "data_sugarcane.head()\n"
      ],
      "execution_count": 86,
      "outputs": [
        {
          "output_type": "execute_result",
          "data": {
            "text/html": [
              "<div>\n",
              "<style scoped>\n",
              "    .dataframe tbody tr th:only-of-type {\n",
              "        vertical-align: middle;\n",
              "    }\n",
              "\n",
              "    .dataframe tbody tr th {\n",
              "        vertical-align: top;\n",
              "    }\n",
              "\n",
              "    .dataframe thead th {\n",
              "        text-align: right;\n",
              "    }\n",
              "</style>\n",
              "<table border=\"1\" class=\"dataframe\">\n",
              "  <thead>\n",
              "    <tr style=\"text-align: right;\">\n",
              "      <th></th>\n",
              "      <th>Entity</th>\n",
              "      <th>Year</th>\n",
              "      <th>hg/ha</th>\n",
              "    </tr>\n",
              "  </thead>\n",
              "  <tbody>\n",
              "    <tr>\n",
              "      <th>0</th>\n",
              "      <td>Japan</td>\n",
              "      <td>1961</td>\n",
              "      <td>68.5924</td>\n",
              "    </tr>\n",
              "    <tr>\n",
              "      <th>1</th>\n",
              "      <td>Japan</td>\n",
              "      <td>1962</td>\n",
              "      <td>74.5585</td>\n",
              "    </tr>\n",
              "    <tr>\n",
              "      <th>2</th>\n",
              "      <td>Japan</td>\n",
              "      <td>1963</td>\n",
              "      <td>53.6797</td>\n",
              "    </tr>\n",
              "    <tr>\n",
              "      <th>3</th>\n",
              "      <td>Japan</td>\n",
              "      <td>1964</td>\n",
              "      <td>78.2977</td>\n",
              "    </tr>\n",
              "    <tr>\n",
              "      <th>4</th>\n",
              "      <td>Japan</td>\n",
              "      <td>1965</td>\n",
              "      <td>61.6522</td>\n",
              "    </tr>\n",
              "  </tbody>\n",
              "</table>\n",
              "</div>"
            ],
            "text/plain": [
              "  Entity  Year    hg/ha\n",
              "0  Japan  1961  68.5924\n",
              "1  Japan  1962  74.5585\n",
              "2  Japan  1963  53.6797\n",
              "3  Japan  1964  78.2977\n",
              "4  Japan  1965  61.6522"
            ]
          },
          "metadata": {},
          "execution_count": 86
        }
      ]
    },
    {
      "cell_type": "code",
      "metadata": {
        "id": "DuyKp5L-10-C",
        "colab": {
          "base_uri": "https://localhost:8080/",
          "height": 204
        },
        "outputId": "3b38f406-7377-4b2b-8a67-9dde93146e56"
      },
      "source": [
        "data_rice=data_rice[data_rice['Entity']=='Nigeria'].reset_index()[['Entity','Year','hg/ha']]\n",
        "data_rice.head()\n"
      ],
      "execution_count": 87,
      "outputs": [
        {
          "output_type": "execute_result",
          "data": {
            "text/html": [
              "<div>\n",
              "<style scoped>\n",
              "    .dataframe tbody tr th:only-of-type {\n",
              "        vertical-align: middle;\n",
              "    }\n",
              "\n",
              "    .dataframe tbody tr th {\n",
              "        vertical-align: top;\n",
              "    }\n",
              "\n",
              "    .dataframe thead th {\n",
              "        text-align: right;\n",
              "    }\n",
              "</style>\n",
              "<table border=\"1\" class=\"dataframe\">\n",
              "  <thead>\n",
              "    <tr style=\"text-align: right;\">\n",
              "      <th></th>\n",
              "      <th>Entity</th>\n",
              "      <th>Year</th>\n",
              "      <th>hg/ha</th>\n",
              "    </tr>\n",
              "  </thead>\n",
              "  <tbody>\n",
              "    <tr>\n",
              "      <th>0</th>\n",
              "      <td>Nigeria</td>\n",
              "      <td>1961</td>\n",
              "      <td>0.7388</td>\n",
              "    </tr>\n",
              "    <tr>\n",
              "      <th>1</th>\n",
              "      <td>Nigeria</td>\n",
              "      <td>1962</td>\n",
              "      <td>0.7747</td>\n",
              "    </tr>\n",
              "    <tr>\n",
              "      <th>2</th>\n",
              "      <td>Nigeria</td>\n",
              "      <td>1963</td>\n",
              "      <td>0.7577</td>\n",
              "    </tr>\n",
              "    <tr>\n",
              "      <th>3</th>\n",
              "      <td>Nigeria</td>\n",
              "      <td>1964</td>\n",
              "      <td>0.7113</td>\n",
              "    </tr>\n",
              "    <tr>\n",
              "      <th>4</th>\n",
              "      <td>Nigeria</td>\n",
              "      <td>1965</td>\n",
              "      <td>0.6808</td>\n",
              "    </tr>\n",
              "  </tbody>\n",
              "</table>\n",
              "</div>"
            ],
            "text/plain": [
              "    Entity  Year   hg/ha\n",
              "0  Nigeria  1961  0.7388\n",
              "1  Nigeria  1962  0.7747\n",
              "2  Nigeria  1963  0.7577\n",
              "3  Nigeria  1964  0.7113\n",
              "4  Nigeria  1965  0.6808"
            ]
          },
          "metadata": {},
          "execution_count": 87
        }
      ]
    },
    {
      "cell_type": "code",
      "metadata": {
        "id": "XTCFSHFksvzc",
        "colab": {
          "base_uri": "https://localhost:8080/",
          "height": 368
        },
        "outputId": "df903d15-e4ff-4b96-f7ce-8a5384a3da0a"
      },
      "source": [
        "sb.lineplot(data_sugarcane['Year'],data_sugarcane['hg/ha'])\n",
        "plt.title(\"Mean Global Temperatures by Year\")\n"
      ],
      "execution_count": 88,
      "outputs": [
        {
          "output_type": "stream",
          "name": "stderr",
          "text": [
            "/usr/local/lib/python3.7/dist-packages/seaborn/_decorators.py:43: FutureWarning: Pass the following variables as keyword args: x, y. From version 0.12, the only valid positional argument will be `data`, and passing other arguments without an explicit keyword will result in an error or misinterpretation.\n",
            "  FutureWarning\n"
          ]
        },
        {
          "output_type": "execute_result",
          "data": {
            "text/plain": [
              "Text(0.5, 1.0, 'Mean Global Temperatures by Year')"
            ]
          },
          "metadata": {},
          "execution_count": 88
        },
        {
          "output_type": "display_data",
          "data": {
            "image/png": "[encoded data removed]",
            "text/plain": [
              "<Figure size 432x288 with 1 Axes>"
            ]
          },
          "metadata": {
            "needs_background": "light"
          }
        }
      ]
    },
    {
      "cell_type": "code",
      "metadata": {
        "id": "wMqEvRAO3Xek",
        "colab": {
          "base_uri": "https://localhost:8080/",
          "height": 368
        },
        "outputId": "8d6517c5-9089-4bf0-8803-05c2bdac643b"
      },
      "source": [
        "sb.lineplot(data_rice['Year'],data_rice['hg/ha'])\n",
        "plt.title(\"Mean Global Temperatures by Year\")"
      ],
      "execution_count": 89,
      "outputs": [
        {
          "output_type": "stream",
          "name": "stderr",
          "text": [
            "/usr/local/lib/python3.7/dist-packages/seaborn/_decorators.py:43: FutureWarning: Pass the following variables as keyword args: x, y. From version 0.12, the only valid positional argument will be `data`, and passing other arguments without an explicit keyword will result in an error or misinterpretation.\n",
            "  FutureWarning\n"
          ]
        },
        {
          "output_type": "execute_result",
          "data": {
            "text/plain": [
              "Text(0.5, 1.0, 'Mean Global Temperatures by Year')"
            ]
          },
          "metadata": {},
          "execution_count": 89
        },
        {
          "output_type": "display_data",
          "data": {
            "image/png": "[encoded data removed]",
            "text/plain": [
              "<Figure size 432x288 with 1 Axes>"
            ]
          },
          "metadata": {
            "needs_background": "light"
          }
        }
      ]
    },
    {
      "cell_type": "code",
      "metadata": {
        "id": "M5Qs21uRtxAV",
        "colab": {
          "base_uri": "https://localhost:8080/",
          "height": 388
        },
        "outputId": "b9642d36-8b77-4834-819b-b05ec2b914e9"
      },
      "source": [
        "sb.lineplot(data['Year'],data['Mean'])\n",
        "sb.lineplot(data_sugarcane['Year'],data_sugarcane['hg/ha'])\n",
        "\n"
      ],
      "execution_count": 90,
      "outputs": [
        {
          "output_type": "stream",
          "name": "stderr",
          "text": [
            "/usr/local/lib/python3.7/dist-packages/seaborn/_decorators.py:43: FutureWarning: Pass the following variables as keyword args: x, y. From version 0.12, the only valid positional argument will be `data`, and passing other arguments without an explicit keyword will result in an error or misinterpretation.\n",
            "  FutureWarning\n",
            "/usr/local/lib/python3.7/dist-packages/seaborn/_decorators.py:43: FutureWarning: Pass the following variables as keyword args: x, y. From version 0.12, the only valid positional argument will be `data`, and passing other arguments without an explicit keyword will result in an error or misinterpretation.\n",
            "  FutureWarning\n"
          ]
        },
        {
          "output_type": "execute_result",
          "data": {
            "text/plain": [
              "<matplotlib.axes._subplots.AxesSubplot at 0x7fd3e1988610>"
            ]
          },
          "metadata": {},
          "execution_count": 90
        },
        {
          "output_type": "display_data",
          "data": {
            "image/png": "[encoded data removed]",
            "text/plain": [
              "<Figure size 432x288 with 1 Axes>"
            ]
          },
          "metadata": {
            "needs_background": "light"
          }
        }
      ]
    },
    {
      "cell_type": "code",
      "metadata": {
        "id": "xmVMdw9k3jFu",
        "colab": {
          "base_uri": "https://localhost:8080/",
          "height": 404
        },
        "outputId": "60df0e23-d2e0-4031-9561-e9379bd0d982"
      },
      "source": [
        "#plot of harvest of rice in nigeria compared with temprature data over the years\n",
        "sb.lineplot(data['Year'],data['Mean'])\n",
        "sb.lineplot(data_rice['Year'],data_rice['hg/ha'])\n",
        "#plt.title(\"Mean yields of rice crop in Nigeria compared with temprature change\")"
      ],
      "execution_count": 94,
      "outputs": [
        {
          "output_type": "stream",
          "name": "stderr",
          "text": [
            "/usr/local/lib/python3.7/dist-packages/seaborn/_decorators.py:43: FutureWarning: Pass the following variables as keyword args: x, y. From version 0.12, the only valid positional argument will be `data`, and passing other arguments without an explicit keyword will result in an error or misinterpretation.\n",
            "  FutureWarning\n",
            "/usr/local/lib/python3.7/dist-packages/seaborn/_decorators.py:43: FutureWarning: Pass the following variables as keyword args: x, y. From version 0.12, the only valid positional argument will be `data`, and passing other arguments without an explicit keyword will result in an error or misinterpretation.\n",
            "  FutureWarning\n"
          ]
        },
        {
          "output_type": "execute_result",
          "data": {
            "text/plain": [
              "Text(0.5, 1.0, 'Mean yields of rice crop in Nigeria compared with temprature change')"
            ]
          },
          "metadata": {},
          "execution_count": 94
        },
        {
          "output_type": "display_data",
          "data": {
            "image/png": "[encoded data removed]",
            "text/plain": [
              "<Figure size 432x288 with 1 Axes>"
            ]
          },
          "metadata": {
            "needs_background": "light"
          }
        }
      ]
    },
    {
      "cell_type": "markdown",
      "metadata": {
        "id": "bTtIj0YhSsQs"
      },
      "source": [
        ""
      ]
    },
    {
      "cell_type": "code",
      "metadata": {
        "id": "5353y19Mv4BY"
      },
      "source": [
        ""
      ],
      "execution_count": 91,
      "outputs": []
    }
  ]
}